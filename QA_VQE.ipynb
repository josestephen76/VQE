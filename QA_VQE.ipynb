{
 "cells": [
  {
   "cell_type": "code",
   "execution_count": 1,
   "id": "c0ba4857",
   "metadata": {},
   "outputs": [],
   "source": [
    "## imports \n",
    "import qiskit \n",
    "from qiskit import *\n",
    "from qiskit import execute\n",
    "from qiskit.circuit import QuantumCircuit, QuantumRegister, ClassicalRegister\n",
    "from qiskit import BasicAer\n",
    "import numpy as np\n",
    "pi = np.pi"
   ]
  },
  {
   "cell_type": "code",
   "execution_count": 2,
   "id": "ec2a6540",
   "metadata": {},
   "outputs": [],
   "source": [
    "#ansatz\n",
    "def ansatz(circuit,parameter):\n",
    "    circuit.ry(parameter,0)\n",
    "    circuit.cx(0,1)\n",
    "    circuit.h(0)\n",
    "    circuit.h(1)\n",
    "    return circuit"
   ]
  },
  {
   "cell_type": "code",
   "execution_count": 3,
   "id": "c519518a",
   "metadata": {},
   "outputs": [],
   "source": [
    "#circuit for ZZ using state vector simulator\n",
    "def circuit(q,c,parameter):\n",
    "    circuit = QuantumCircuit(q, c)\n",
    "    ansatz(circuit,parameter)\n",
    "    backend = Aer.get_backend('statevector_simulator')\n",
    "    job = execute(circuit, backend)\n",
    "    result = job.result()\n",
    "    outputstate = result.get_statevector(circuit)\n",
    "    expect_val=0\n",
    "    sign=+1\n",
    "    for index, key in enumerate(outputstate):\n",
    "      # For 00 sign is +1 because eigen value of zero is 1 \n",
    "        if index==0:\n",
    "            sign=+1\n",
    "     # For 01 sign is -1 because eigen value of zero is 1 and one is -1 \n",
    "        if index==1:\n",
    "            sign=-1\n",
    "    # For 10 sign is -1 because eigen value of zero is 1 and one is -1 \n",
    "        if index==2:\n",
    "            sign=-1\n",
    "    # For 11 sign is -1 because eigen value of one  is -1 and one is -1\n",
    "        if index==3:\n",
    "            sign=+1\n",
    "        \n",
    "        expect_val+=sign * key **2\n",
    "   \n",
    "    return np.round(expect_val,2)\n",
    "        "
   ]
  },
  {
   "cell_type": "code",
   "execution_count": 5,
   "id": "f08c9084",
   "metadata": {},
   "outputs": [
    {
     "name": "stdout",
     "output_type": "stream",
     "text": [
      "lowest eigenvalue is:  (-1+0j)\n"
     ]
    }
   ],
   "source": [
    "energy_estimates = []\n",
    "\n",
    "read_list = []\n",
    "\n",
    "q,c = 2,2\n",
    "# changing parameters\n",
    "parameters1 = np.linspace(0, 2*pi, 50)   #theta \n",
    "\n",
    "for parameter1 in parameters1:\n",
    "            parameter =  parameter1\n",
    "            read =  circuit(q,c,parameter)\n",
    "            energy_estimate =  read\n",
    "            read_list.append(read)\n",
    "            energy_estimates.append(energy_estimate)\n",
    "print(\"lowest eigenvalue is: \", min(energy_estimates))\n"
   ]
  },
  {
   "cell_type": "code",
   "execution_count": 8,
   "id": "b89b54c9",
   "metadata": {},
   "outputs": [
    {
     "name": "stderr",
     "output_type": "stream",
     "text": [
      "C:\\Users\\Ais-Admin\\.conda\\envs\\QSilver\\lib\\site-packages\\numpy\\core\\_asarray.py:102: ComplexWarning: Casting complex values to real discards the imaginary part\n",
      "  return array(a, dtype, copy=False, order=order)\n"
     ]
    },
    {
     "data": {
      "text/plain": [
       "[<matplotlib.lines.Line2D at 0x208e1aed790>]"
      ]
     },
     "execution_count": 8,
     "metadata": {},
     "output_type": "execute_result"
    },
    {
     "data": {
      "image/png": "[encoded data removed]",
      "text/plain": [
       "<Figure size 432x288 with 1 Axes>"
      ]
     },
     "metadata": {
      "needs_background": "light"
     },
     "output_type": "display_data"
    }
   ],
   "source": [
    "import matplotlib.pyplot as plt\n",
    "plt.plot(parameters1, energy_estimates, label=\"Energy Estimation\")\n"
   ]
  },
  {
   "cell_type": "code",
   "execution_count": null,
   "id": "2b2ee2c4",
   "metadata": {},
   "outputs": [],
   "source": []
  }
 ],
 "metadata": {
  "kernelspec": {
   "display_name": "Python 3",
   "language": "python",
   "name": "python3"
  },
  "language_info": {
   "codemirror_mode": {
    "name": "ipython",
    "version": 3
   },
   "file_extension": ".py",
   "mimetype": "text/x-python",
   "name": "python",
   "nbconvert_exporter": "python",
   "pygments_lexer": "ipython3",
   "version": "3.8.8"
  }
 },
 "nbformat": 4,
 "nbformat_minor": 5
}
